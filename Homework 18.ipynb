{
 "cells": [
  {
   "cell_type": "markdown",
   "metadata": {},
   "source": [
    "Duvall Pinkney Pima Indian Diabetes study"
   ]
  },
  {
   "cell_type": "markdown",
   "metadata": {},
   "source": [
    "# Homework 18\n",
    "\n",
    "This homework uses the Pima Indian Diabetes dataset from Labs 14 and 15.  We will use decision trees and random forests to try to predict whether or not a person has diabetes.\n",
    "\n",
    "Data URL:  [https://raw.githubusercontent.com/megan-owen/MAT328-Techniques_in_Data_Science/main/data/diabetes.csv]( https://raw.githubusercontent.com/megan-owen/MAT328-Techniques_in_Data_Science/main/data/diabetes.csv)\n",
    "\n",
    "### Question 1: Loading and preparing the data\n",
    "\n",
    "Load the data in your notebook, and do the following steps to prepare the data for making predictions:\n",
    "* split the data into a DataFrame called `x` that contains all columns except `Outcome` (the independent variables), and a Series called `y` that contains the `Outcome` column (the dependent variable)\n",
    "* split `x` and `y` into training (80%) and testing (20%) data"
   ]
  },
  {
   "cell_type": "code",
   "execution_count": null,
   "metadata": {
    "collapsed": true
   },
   "outputs": [],
   "source": []
  },
  {
   "cell_type": "markdown",
   "metadata": {},
   "source": [
    "### Question 2: K-Nearest Neighbors Classifier\n",
    "\n",
    "2a) Fit a k-nearest neighbors classifer with k=5 to the training data, and use this classifier to make predictions for the testing data."
   ]
  },
  {
   "cell_type": "code",
   "execution_count": null,
   "metadata": {
    "collapsed": true
   },
   "outputs": [],
   "source": []
  },
  {
   "cell_type": "markdown",
   "metadata": {},
   "source": [
    "2b) Compute the confusion matrix for your predictions.  How many true positives and true negatives are there?"
   ]
  },
  {
   "cell_type": "code",
   "execution_count": null,
   "metadata": {
    "collapsed": true
   },
   "outputs": [],
   "source": []
  },
  {
   "cell_type": "markdown",
   "metadata": {},
   "source": [
    "2c) Compute the sensitivity and specificity of your decision tree model.  Does the model do a better job predicting that people have diabetes or don't have it?"
   ]
  },
  {
   "cell_type": "code",
   "execution_count": null,
   "metadata": {
    "collapsed": true
   },
   "outputs": [],
   "source": []
  },
  {
   "cell_type": "markdown",
   "metadata": {},
   "source": [
    "2d) Fit a second k-nearest neighbor classifier to the training data with a different k, and use it to make predictions for the testing data. Compute the confusion matrix, sensitivity, and specificity.  Is this model better or worse than the model with k = 5?"
   ]
  },
  {
   "cell_type": "code",
   "execution_count": null,
   "metadata": {
    "collapsed": true
   },
   "outputs": [],
   "source": []
  },
  {
   "cell_type": "markdown",
   "metadata": {},
   "source": [
    "2e) Fit a third k-nearest neighbor classifier to the training data with a different k than 5 or the one used in 2d, and use it to make predictions for the testing data. Compute the confusion matrix, sensitivity, and specificity. Is this model better or worse than the previous two k-nearest neighbor classifiers?"
   ]
  },
  {
   "cell_type": "code",
   "execution_count": null,
   "metadata": {
    "collapsed": true
   },
   "outputs": [],
   "source": []
  },
  {
   "cell_type": "markdown",
   "metadata": {},
   "source": [
    "2f) Compare your best k-nearest neighbor classifier with the best classifier from Homework 16, Question 3e.  Which model would you use to predict diabetes in someone?  Why?  (If you did not complete that question in Homework 16, use the Homework 16 solutions.)"
   ]
  },
  {
   "cell_type": "code",
   "execution_count": null,
   "metadata": {
    "collapsed": true
   },
   "outputs": [],
   "source": []
  }
 ],
 "metadata": {
  "kernelspec": {
   "display_name": "Python 3",
   "language": "python",
   "name": "python3"
  },
  "language_info": {
   "codemirror_mode": {
    "name": "ipython",
    "version": 3
   },
   "file_extension": ".py",
   "mimetype": "text/x-python",
   "name": "python",
   "nbconvert_exporter": "python",
   "pygments_lexer": "ipython3",
   "version": "3.7.5"
  }
 },
 "nbformat": 4,
 "nbformat_minor": 2
}
