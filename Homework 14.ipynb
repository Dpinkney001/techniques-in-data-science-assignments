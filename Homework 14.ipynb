{
 "cells": [
  {
   "cell_type": "markdown",
   "metadata": {},
   "source": [
    "**Replace with your name and a brief description of the notebook.**"
   ]
  },
  {
   "cell_type": "markdown",
   "metadata": {},
   "source": [
    "# Homework 14\n",
    "\n",
    "This homework uses the Green taxi data from Homework 2.  The 2020 green taxi trip data from NYC Open Data was filtered to only be trips with a pickup date and time on Feb. 4, 2020. \n",
    "\n",
    "Filtered trip data URL: [https://raw.githubusercontent.com/megan-owen/MAT328-Techniques_in_Data_Science/main/data/Feb4_2020_Green_Taxi_Trip_Data.csv](https://raw.githubusercontent.com/megan-owen/MAT328-Techniques_in_Data_Science/main/data/Feb4_2020_Green_Taxi_Trip_Data.csv)\n",
    "\n",
    "We will try to predict which trips involve tolls using only the length of the trip.\n",
    "\n",
    "**Answer all questions in the homework, including ones that require written answers.**"
   ]
  },
  {
   "cell_type": "code",
   "execution_count": null,
   "metadata": {
    "collapsed": true
   },
   "outputs": [],
   "source": []
  },
  {
   "cell_type": "markdown",
   "metadata": {},
   "source": [
    "### Question 1: Loading and cleaning the data\n",
    "\n",
    "Load the data into Python, and clean it as follows:\n",
    "* create a new column call `paid_toll` that contains a 1 if the value in the `tolls_amount` column is greater than 0 and a 0 otherwise.  Hint:  See Lab 1, Section 6.\n",
    "* create a new dataframe (or change the current one) that only contains the columns `trip_distance` and `paid_toll`.\n"
   ]
  },
  {
   "cell_type": "code",
   "execution_count": null,
   "metadata": {},
   "outputs": [],
   "source": []
  },
  {
   "cell_type": "markdown",
   "metadata": {},
   "source": [
    "### Question 2: Logistic regression\n",
    "\n",
    "2a) Plot a scatterplot with `trip_distance` on the x axis and `paid_toll` on the y axis.  Do you think our model to predict whether a taxi customer paid a toll based on trip distance will work?  Why or why not?"
   ]
  },
  {
   "cell_type": "code",
   "execution_count": null,
   "metadata": {},
   "outputs": [],
   "source": []
  },
  {
   "cell_type": "markdown",
   "metadata": {},
   "source": [
    "2b) Create a logistic model where `paid_toll` is the independent variable and `trip_distance` is the dependent variable."
   ]
  },
  {
   "cell_type": "code",
   "execution_count": null,
   "metadata": {},
   "outputs": [],
   "source": []
  },
  {
   "cell_type": "markdown",
   "metadata": {},
   "source": [
    "2c)  What is the R-squared value for your logistic model?  What does it suggest about the fit of the model?"
   ]
  },
  {
   "cell_type": "code",
   "execution_count": null,
   "metadata": {
    "collapsed": true
   },
   "outputs": [],
   "source": []
  },
  {
   "cell_type": "markdown",
   "metadata": {},
   "source": [
    "2d)  What is the equation of your logistic regression model?  The equation below is written in Latex, which is a system for typing math equations.  Double click on this cell, and replace the part of the equation that says \"reg\" to finish the formula.  \"run\" this cell (as you would a code cell) when you are finished.\n",
    "\n",
    "$$y = \\frac{1}{1 + e^{-(reg)}}$$"
   ]
  },
  {
   "cell_type": "markdown",
   "metadata": {},
   "source": [
    "2e) Plot the logistic regression model line on a scatterplot of the data.  You can use any method/package to do this."
   ]
  },
  {
   "cell_type": "code",
   "execution_count": null,
   "metadata": {
    "collapsed": true
   },
   "outputs": [],
   "source": []
  },
  {
   "cell_type": "markdown",
   "metadata": {},
   "source": [
    "2f) Compute the confusion matrix for your logistic regression model.  How many true positives are there?  How many true negative?  How many false positives?  How many false negatives?  \n",
    "\n",
    "Based on the confusion matrix and the R-squared value, how good of a fit is your model?"
   ]
  },
  {
   "cell_type": "code",
   "execution_count": null,
   "metadata": {
    "collapsed": true
   },
   "outputs": [],
   "source": []
  }
 ],
 "metadata": {
  "kernelspec": {
   "display_name": "Python 3",
   "language": "python",
   "name": "python3"
  },
  "language_info": {
   "codemirror_mode": {
    "name": "ipython",
    "version": 3
   },
   "file_extension": ".py",
   "mimetype": "text/x-python",
   "name": "python",
   "nbconvert_exporter": "python",
   "pygments_lexer": "ipython3",
   "version": "3.6.10"
  }
 },
 "nbformat": 4,
 "nbformat_minor": 2
}
