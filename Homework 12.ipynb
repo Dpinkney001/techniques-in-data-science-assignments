{
 "cells": [
  {
   "cell_type": "markdown",
   "metadata": {},
   "source": [
    "# Homework 12\n",
    "\n",
    "This homework use a dataset containing information about diamonds from [Kaggle](https://www.kaggle.com/shivam2503/diamonds) and can be downloaded directly [here](https://raw.githubusercontent.com/megan-owen/MAT328-Techniques_in_Data_Science/main/data/diamonds.csv).  \n",
    "\n",
    "The columns in the dataset are:\n",
    "* carat = weight of diamond\n",
    "* cut = quality of the cut (Fair, Good, Very Good, Premium, Ideal)\n",
    "* color =  diamond colour, from J (worst) to D (best)\n",
    "* clarity = a measurement of how clear the diamond is (I1 (worst), SI2, SI1, VS2, VS1, VVS2, VVS1, IF (best))\n",
    "* depth = total depth percentage\n",
    "* table = width of top of diamond relative to widest point\n",
    "* price = price in US dollars\n",
    "* x = length in mm\n",
    "* y = width in mm\n",
    "* z = depth in mm\n",
    "\n",
    "### Question 1: Load and clean the data\n",
    "\n",
    "When loading the data, use the parameter `index_col = 0` in `read_csv()` to tell Pandas that the first column is the index (name of the rows).\n",
    "\n",
    "Turn the cut, color, and clarity columns into dummy variables."
   ]
  },
  {
   "cell_type": "code",
   "execution_count": null,
   "metadata": {
    "collapsed": true
   },
   "outputs": [],
   "source": []
  },
  {
   "cell_type": "markdown",
   "metadata": {},
   "source": [
    "### Question 2: Prepare the data for scikit-learn\n",
    "\n",
    "In this lab, we will try to predict the price of the diamonds using data in all the other columns (the features or independent variables).\n",
    "\n",
    "a) Create a variable for all the features/independent variables (all columns except price) and a variable for the dependent variable (the price column)."
   ]
  },
  {
   "cell_type": "code",
   "execution_count": null,
   "metadata": {},
   "outputs": [],
   "source": []
  },
  {
   "cell_type": "markdown",
   "metadata": {},
   "source": [
    "2b)  Split the data into training (80%) and testing (20%) datasets."
   ]
  },
  {
   "cell_type": "code",
   "execution_count": 14,
   "metadata": {
    "collapsed": true
   },
   "outputs": [],
   "source": []
  },
  {
   "cell_type": "markdown",
   "metadata": {},
   "source": [
    "### Question 3:  Fit and evaluate a decision tree\n",
    "\n",
    "a) Train a decision tree with maximum depth 3 on your training data."
   ]
  },
  {
   "cell_type": "code",
   "execution_count": null,
   "metadata": {},
   "outputs": [],
   "source": []
  },
  {
   "cell_type": "markdown",
   "metadata": {},
   "source": [
    "3b) Use your decision tree from part (a) to predict the prices on both the training and testing data."
   ]
  },
  {
   "cell_type": "code",
   "execution_count": 18,
   "metadata": {
    "collapsed": true
   },
   "outputs": [],
   "source": []
  },
  {
   "cell_type": "markdown",
   "metadata": {},
   "source": [
    "3c) What is the mean squared error of the predictions on the training data and on the testing data?  From these mean squared errors, what can you say about how well the model fits the data?"
   ]
  },
  {
   "cell_type": "code",
   "execution_count": null,
   "metadata": {},
   "outputs": [],
   "source": []
  },
  {
   "cell_type": "markdown",
   "metadata": {},
   "source": [
    "### Question 4: Decision tree\n",
    "\n",
    "Create an image of your decision tree and include it in your zip file, if it does not appear in your notebook.  Which features are used to predict the price in your decision tree?\n",
    "\n",
    "**Hint for Jupyter Hub on Lehman360 and webgraphviz.com:**  Display the tree first to see which column numbers it uses, and only convert those columns to the actual column names.   Also, you can get an image of the tree by zooming out on webgraphviz and then taking a screenshot."
   ]
  },
  {
   "cell_type": "code",
   "execution_count": null,
   "metadata": {},
   "outputs": [],
   "source": []
  },
  {
   "cell_type": "markdown",
   "metadata": {},
   "source": [
    "### Question 5:   Best model\n",
    "\n",
    "Try at least 2 other maximum depth values, computing the mean squared error for the training and testing data.  State which values you tried, which model was best, and why."
   ]
  },
  {
   "cell_type": "code",
   "execution_count": null,
   "metadata": {},
   "outputs": [],
   "source": []
  },
  {
   "cell_type": "markdown",
   "metadata": {
    "collapsed": true
   },
   "source": [
    "### Bonus Question\n",
    "\n",
    "Fit a linear regression model to the training data, and compute the mean squared error on the training and testing data.  How does this linear regression model compare to your best decision tree?"
   ]
  },
  {
   "cell_type": "code",
   "execution_count": null,
   "metadata": {},
   "outputs": [],
   "source": []
  }
 ],
 "metadata": {
  "kernelspec": {
   "display_name": "Python 3",
   "language": "python",
   "name": "python3"
  },
  "language_info": {
   "codemirror_mode": {
    "name": "ipython",
    "version": 3
   },
   "file_extension": ".py",
   "mimetype": "text/x-python",
   "name": "python",
   "nbconvert_exporter": "python",
   "pygments_lexer": "ipython3",
   "version": "3.6.10"
  }
 },
 "nbformat": 4,
 "nbformat_minor": 2
}
