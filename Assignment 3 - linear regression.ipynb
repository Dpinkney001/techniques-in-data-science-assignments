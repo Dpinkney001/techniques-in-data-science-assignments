{
 "cells": [
  {
   "cell_type": "markdown",
   "metadata": {},
   "source": [
    "# Assignment 3\n",
    "\n",
    "This assignment uses the weather data from Lab 1, from [https://github.com/fivethirtyeight/data/tree/master/us-weather-history](https://github.com/fivethirtyeight/data/tree/master/us-weather-history).  We used the KNYC.csv in Lab 1, and will also use KCLT.csv, which is the weather data for Charlotte, NC, in this assignment.\n",
    "\n",
    "This assignment will look at different ways to predict the actual maximum daily temperature in New York using linear regression.  The actual maximum temperature was the maximum temperature recorded on that day.\n",
    "\n",
    "1. Predicting the NYC actual max temperature from the NYC average max temperature:\n",
    "    \n",
    "    a. Use regplot from Seaborn to create a scatter plot of the average max temperature (on x axis) vs. the actual max temperature (on y axis) with the regression line.  Do you think this data has a linear relationship?\n",
    "    \n",
    "    b. Compute the linear regression model where the independent variable is the average max temperature and the dependent variable is the actual max temperature.  What is the equation for the linear model?  What proportion of the variance is explained by the model (R-squared)?\n",
    "    \n",
    "    c. Plot a histogram of the residuals of your model from part b.  Describe their distribution.  Based on this and your results from parts a and b, do you think this linear model is a good fit?  Why or why not?\n",
    "    \n",
    "2. Predicting the NYC actual max temperature from the Charlotte actual max temperature:\n",
    "    Note:  To easily perform the following analysis, add the column of actual max temperatures from the Charlotte weather data to your NYC weather dataframe.  \n",
    "    ex.  `nyc_weather_df[\"name_of_new_column\"] = charlotte_weather_df[\"actual_max_temp\"]`\n",
    "    \n",
    "    a. Use regplot from Seaborn to create a scatter plot of the Charlotte actual max temperature (on x axis) vs. the NYC actual max temperature (on y axis) with the regression line.  Do you think this data has a linear relationship?\n",
    "    \n",
    "    b. Compute the linear regression model where the independent variable is the average max temperature and the dependent variable is the actual max temperature.  What proportion of the variance is explained by the model?\n",
    "    \n",
    "    c. Predict the NYC actual max temperature if the Charlotte max temperature is 32F, 60F, and 80F.\n",
    "    \n",
    "    d. Plot a histogram of the residuals of your model from part b.  Describe their distribution.\n",
    "    \n",
    "    e. Make a scatter plot of the NYC actual max temperaturs (x axis) vs. the residuals from your linear model.  If you are using `plt.scatter()` you can add a horizontal line to your plot at 0 with the code `plt.axhline(0)`.  What do you notice about how the residuals are distributed above and below this line?  What tempertures will be overestimated by this model?  What temperatures will be underestimated by this model?\n",
    "    \n",
    "    f. Based on the previous parts, do you think this linear model is a good fit?\n",
    "    \n",
    "3. Predicting the NYC actual max temperature from both the average max temperature and the Charlotte actual max temperature:\n",
    "    a. Compute a linear regression model with both the average max temperature and the Charlotte actual max temperature as the independent variables.  What proportion of variance is explained by this model?\n",
    "    \n",
    "    b. Plot a histogram of the residuals. Describe their distribution.\n",
    "    \n",
    "    c. Make a scatter plot of the NYC actual max temperatures (x axis) and the fitted NYC actual max temperatures (y axis).  What do you notice about the plot?"
   ]
  },
  {
   "cell_type": "code",
   "execution_count": 3,
   "metadata": {},
   "outputs": [],
   "source": [
    "import pandas as pd\n",
    "import matplotlib.pyplot as plt\n",
    "import statsmodels.formula.api as smf\n",
    "import seaborn as sns\n",
    "import numpy as np\n",
    "\n",
    "%matplotlib inline\n"
   ]
  },
  {
   "cell_type": "code",
   "execution_count": 4,
   "metadata": {},
   "outputs": [
    {
     "data": {
      "text/html": [
       "<div>\n",
       "<style scoped>\n",
       "    .dataframe tbody tr th:only-of-type {\n",
       "        vertical-align: middle;\n",
       "    }\n",
       "\n",
       "    .dataframe tbody tr th {\n",
       "        vertical-align: top;\n",
       "    }\n",
       "\n",
       "    .dataframe thead th {\n",
       "        text-align: right;\n",
       "    }\n",
       "</style>\n",
       "<table border=\"1\" class=\"dataframe\">\n",
       "  <thead>\n",
       "    <tr style=\"text-align: right;\">\n",
       "      <th></th>\n",
       "      <th>date</th>\n",
       "      <th>actual_mean_temp</th>\n",
       "      <th>actual_min_temp</th>\n",
       "      <th>actual_max_temp</th>\n",
       "      <th>average_min_temp</th>\n",
       "      <th>average_max_temp</th>\n",
       "      <th>record_min_temp</th>\n",
       "      <th>record_max_temp</th>\n",
       "      <th>record_min_temp_year</th>\n",
       "      <th>record_max_temp_year</th>\n",
       "      <th>actual_precipitation</th>\n",
       "      <th>average_precipitation</th>\n",
       "      <th>record_precipitation</th>\n",
       "    </tr>\n",
       "  </thead>\n",
       "  <tbody>\n",
       "    <tr>\n",
       "      <th>0</th>\n",
       "      <td>2014-7-1</td>\n",
       "      <td>81</td>\n",
       "      <td>72</td>\n",
       "      <td>89</td>\n",
       "      <td>68</td>\n",
       "      <td>83</td>\n",
       "      <td>52</td>\n",
       "      <td>100</td>\n",
       "      <td>1943</td>\n",
       "      <td>1901</td>\n",
       "      <td>0.00</td>\n",
       "      <td>0.12</td>\n",
       "      <td>2.17</td>\n",
       "    </tr>\n",
       "    <tr>\n",
       "      <th>1</th>\n",
       "      <td>2014-7-2</td>\n",
       "      <td>82</td>\n",
       "      <td>72</td>\n",
       "      <td>91</td>\n",
       "      <td>68</td>\n",
       "      <td>83</td>\n",
       "      <td>56</td>\n",
       "      <td>100</td>\n",
       "      <td>2001</td>\n",
       "      <td>1966</td>\n",
       "      <td>0.96</td>\n",
       "      <td>0.13</td>\n",
       "      <td>1.79</td>\n",
       "    </tr>\n",
       "    <tr>\n",
       "      <th>2</th>\n",
       "      <td>2014-7-3</td>\n",
       "      <td>78</td>\n",
       "      <td>69</td>\n",
       "      <td>87</td>\n",
       "      <td>68</td>\n",
       "      <td>83</td>\n",
       "      <td>54</td>\n",
       "      <td>103</td>\n",
       "      <td>1933</td>\n",
       "      <td>1966</td>\n",
       "      <td>1.78</td>\n",
       "      <td>0.12</td>\n",
       "      <td>2.80</td>\n",
       "    </tr>\n",
       "    <tr>\n",
       "      <th>3</th>\n",
       "      <td>2014-7-4</td>\n",
       "      <td>70</td>\n",
       "      <td>65</td>\n",
       "      <td>74</td>\n",
       "      <td>68</td>\n",
       "      <td>84</td>\n",
       "      <td>55</td>\n",
       "      <td>102</td>\n",
       "      <td>1986</td>\n",
       "      <td>1949</td>\n",
       "      <td>0.14</td>\n",
       "      <td>0.13</td>\n",
       "      <td>1.76</td>\n",
       "    </tr>\n",
       "    <tr>\n",
       "      <th>4</th>\n",
       "      <td>2014-7-5</td>\n",
       "      <td>72</td>\n",
       "      <td>63</td>\n",
       "      <td>81</td>\n",
       "      <td>68</td>\n",
       "      <td>84</td>\n",
       "      <td>53</td>\n",
       "      <td>101</td>\n",
       "      <td>1979</td>\n",
       "      <td>1999</td>\n",
       "      <td>0.00</td>\n",
       "      <td>0.12</td>\n",
       "      <td>3.07</td>\n",
       "    </tr>\n",
       "  </tbody>\n",
       "</table>\n",
       "</div>"
      ],
      "text/plain": [
       "       date  actual_mean_temp  actual_min_temp  actual_max_temp  \\\n",
       "0  2014-7-1                81               72               89   \n",
       "1  2014-7-2                82               72               91   \n",
       "2  2014-7-3                78               69               87   \n",
       "3  2014-7-4                70               65               74   \n",
       "4  2014-7-5                72               63               81   \n",
       "\n",
       "   average_min_temp  average_max_temp  record_min_temp  record_max_temp  \\\n",
       "0                68                83               52              100   \n",
       "1                68                83               56              100   \n",
       "2                68                83               54              103   \n",
       "3                68                84               55              102   \n",
       "4                68                84               53              101   \n",
       "\n",
       "   record_min_temp_year  record_max_temp_year  actual_precipitation  \\\n",
       "0                  1943                  1901                  0.00   \n",
       "1                  2001                  1966                  0.96   \n",
       "2                  1933                  1966                  1.78   \n",
       "3                  1986                  1949                  0.14   \n",
       "4                  1979                  1999                  0.00   \n",
       "\n",
       "   average_precipitation  record_precipitation  \n",
       "0                   0.12                  2.17  \n",
       "1                   0.13                  1.79  \n",
       "2                   0.12                  2.80  \n",
       "3                   0.13                  1.76  \n",
       "4                   0.12                  3.07  "
      ]
     },
     "execution_count": 4,
     "metadata": {},
     "output_type": "execute_result"
    }
   ],
   "source": [
    "dataNYC = pd.read_csv(\"KNYC.csv\")\n",
    "dataNYC.head()"
   ]
  },
  {
   "cell_type": "code",
   "execution_count": 4,
   "metadata": {},
   "outputs": [
    {
     "data": {
      "text/html": [
       "<div>\n",
       "<style scoped>\n",
       "    .dataframe tbody tr th:only-of-type {\n",
       "        vertical-align: middle;\n",
       "    }\n",
       "\n",
       "    .dataframe tbody tr th {\n",
       "        vertical-align: top;\n",
       "    }\n",
       "\n",
       "    .dataframe thead th {\n",
       "        text-align: right;\n",
       "    }\n",
       "</style>\n",
       "<table border=\"1\" class=\"dataframe\">\n",
       "  <thead>\n",
       "    <tr style=\"text-align: right;\">\n",
       "      <th></th>\n",
       "      <th>date</th>\n",
       "      <th>actual_mean_temp</th>\n",
       "      <th>actual_min_temp</th>\n",
       "      <th>actual_max_temp</th>\n",
       "      <th>average_min_temp</th>\n",
       "      <th>average_max_temp</th>\n",
       "      <th>record_min_temp</th>\n",
       "      <th>record_max_temp</th>\n",
       "      <th>record_min_temp_year</th>\n",
       "      <th>record_max_temp_year</th>\n",
       "      <th>actual_precipitation</th>\n",
       "      <th>average_precipitation</th>\n",
       "      <th>record_precipitation</th>\n",
       "    </tr>\n",
       "  </thead>\n",
       "  <tbody>\n",
       "    <tr>\n",
       "      <th>0</th>\n",
       "      <td>2014-7-1</td>\n",
       "      <td>81</td>\n",
       "      <td>70</td>\n",
       "      <td>91</td>\n",
       "      <td>67</td>\n",
       "      <td>89</td>\n",
       "      <td>56</td>\n",
       "      <td>104</td>\n",
       "      <td>1919</td>\n",
       "      <td>2012</td>\n",
       "      <td>0.00</td>\n",
       "      <td>0.10</td>\n",
       "      <td>5.91</td>\n",
       "    </tr>\n",
       "    <tr>\n",
       "      <th>1</th>\n",
       "      <td>2014-7-2</td>\n",
       "      <td>85</td>\n",
       "      <td>74</td>\n",
       "      <td>95</td>\n",
       "      <td>68</td>\n",
       "      <td>89</td>\n",
       "      <td>56</td>\n",
       "      <td>101</td>\n",
       "      <td>2008</td>\n",
       "      <td>1931</td>\n",
       "      <td>0.00</td>\n",
       "      <td>0.10</td>\n",
       "      <td>1.53</td>\n",
       "    </tr>\n",
       "    <tr>\n",
       "      <th>2</th>\n",
       "      <td>2014-7-3</td>\n",
       "      <td>82</td>\n",
       "      <td>71</td>\n",
       "      <td>93</td>\n",
       "      <td>68</td>\n",
       "      <td>89</td>\n",
       "      <td>56</td>\n",
       "      <td>99</td>\n",
       "      <td>2010</td>\n",
       "      <td>1931</td>\n",
       "      <td>0.14</td>\n",
       "      <td>0.11</td>\n",
       "      <td>2.50</td>\n",
       "    </tr>\n",
       "    <tr>\n",
       "      <th>3</th>\n",
       "      <td>2014-7-4</td>\n",
       "      <td>75</td>\n",
       "      <td>64</td>\n",
       "      <td>86</td>\n",
       "      <td>68</td>\n",
       "      <td>89</td>\n",
       "      <td>55</td>\n",
       "      <td>99</td>\n",
       "      <td>1933</td>\n",
       "      <td>1955</td>\n",
       "      <td>0.00</td>\n",
       "      <td>0.10</td>\n",
       "      <td>2.63</td>\n",
       "    </tr>\n",
       "    <tr>\n",
       "      <th>4</th>\n",
       "      <td>2014-7-5</td>\n",
       "      <td>72</td>\n",
       "      <td>60</td>\n",
       "      <td>84</td>\n",
       "      <td>68</td>\n",
       "      <td>89</td>\n",
       "      <td>57</td>\n",
       "      <td>100</td>\n",
       "      <td>1967</td>\n",
       "      <td>1954</td>\n",
       "      <td>0.00</td>\n",
       "      <td>0.10</td>\n",
       "      <td>1.65</td>\n",
       "    </tr>\n",
       "  </tbody>\n",
       "</table>\n",
       "</div>"
      ],
      "text/plain": [
       "       date  actual_mean_temp  actual_min_temp  actual_max_temp  \\\n",
       "0  2014-7-1                81               70               91   \n",
       "1  2014-7-2                85               74               95   \n",
       "2  2014-7-3                82               71               93   \n",
       "3  2014-7-4                75               64               86   \n",
       "4  2014-7-5                72               60               84   \n",
       "\n",
       "   average_min_temp  average_max_temp  record_min_temp  record_max_temp  \\\n",
       "0                67                89               56              104   \n",
       "1                68                89               56              101   \n",
       "2                68                89               56               99   \n",
       "3                68                89               55               99   \n",
       "4                68                89               57              100   \n",
       "\n",
       "   record_min_temp_year  record_max_temp_year  actual_precipitation  \\\n",
       "0                  1919                  2012                  0.00   \n",
       "1                  2008                  1931                  0.00   \n",
       "2                  2010                  1931                  0.14   \n",
       "3                  1933                  1955                  0.00   \n",
       "4                  1967                  1954                  0.00   \n",
       "\n",
       "   average_precipitation  record_precipitation  \n",
       "0                   0.10                  5.91  \n",
       "1                   0.10                  1.53  \n",
       "2                   0.11                  2.50  \n",
       "3                   0.10                  2.63  \n",
       "4                   0.10                  1.65  "
      ]
     },
     "execution_count": 4,
     "metadata": {},
     "output_type": "execute_result"
    }
   ],
   "source": [
    "dataKCLT = pd.read_csv(\"KCLT.csv\")\n",
    "dataKCLT.head()"
   ]
  },
  {
   "cell_type": "code",
   "execution_count": 5,
   "metadata": {},
   "outputs": [
    {
     "ename": "NameError",
     "evalue": "name 'dataKCLT' is not defined",
     "output_type": "error",
     "traceback": [
      "\u001b[1;31m---------------------------------------------------------------------------\u001b[0m",
      "\u001b[1;31mNameError\u001b[0m                                 Traceback (most recent call last)",
      "\u001b[1;32m<ipython-input-5-960e4304f894>\u001b[0m in \u001b[0;36m<module>\u001b[1;34m\u001b[0m\n\u001b[0;32m      1\u001b[0m \u001b[0msns\u001b[0m\u001b[1;33m.\u001b[0m\u001b[0mregplot\u001b[0m\u001b[1;33m(\u001b[0m\u001b[0mx\u001b[0m \u001b[1;33m=\u001b[0m \u001b[1;34m\"average_max_temp\"\u001b[0m\u001b[1;33m,\u001b[0m \u001b[0my\u001b[0m \u001b[1;33m=\u001b[0m \u001b[1;34m\"average_max_temp\"\u001b[0m\u001b[1;33m,\u001b[0m \u001b[0mdata\u001b[0m \u001b[1;33m=\u001b[0m \u001b[0mdataNYC\u001b[0m\u001b[1;33m)\u001b[0m\u001b[1;33m\u001b[0m\u001b[1;33m\u001b[0m\u001b[0m\n\u001b[1;32m----> 2\u001b[1;33m \u001b[0msns\u001b[0m\u001b[1;33m.\u001b[0m\u001b[0mregplot\u001b[0m\u001b[1;33m(\u001b[0m\u001b[0mx\u001b[0m \u001b[1;33m=\u001b[0m \u001b[1;34m\"average_max_temp\"\u001b[0m\u001b[1;33m,\u001b[0m \u001b[0my\u001b[0m \u001b[1;33m=\u001b[0m \u001b[1;34m\"average_max_temp\"\u001b[0m\u001b[1;33m,\u001b[0m \u001b[0mdata\u001b[0m \u001b[1;33m=\u001b[0m \u001b[0mdataKCLT\u001b[0m\u001b[1;33m)\u001b[0m\u001b[1;33m\u001b[0m\u001b[1;33m\u001b[0m\u001b[0m\n\u001b[0m",
      "\u001b[1;31mNameError\u001b[0m: name 'dataKCLT' is not defined"
     ]
    },
    {
     "data": {
      "image/png": "[encoded data removed]",
      "text/plain": [
       "<Figure size 432x288 with 1 Axes>"
      ]
     },
     "metadata": {
      "needs_background": "light"
     },
     "output_type": "display_data"
    }
   ],
   "source": [
    "sns.regplot(x = \"average_max_temp\", y = \"average_max_temp\", data = dataNYC)\n",
    "sns.regplot(x = \"average_max_temp\", y = \"average_max_temp\", data = dataKCLT)"
   ]
  },
  {
   "cell_type": "code",
   "execution_count": null,
   "metadata": {},
   "outputs": [],
   "source": [
    "#data has a linear relationship according to the graph above"
   ]
  },
  {
   "cell_type": "code",
   "execution_count": null,
   "metadata": {},
   "outputs": [],
   "source": [
    "sns.regplot(x = \"average_max_temp\", y = \"actual_max_temp\", data = dataNYC)\n",
    "plt.title(\"Relation between average and actual maximum temperature\")\n",
    "plt.xlabel(\"Average max temp in (F)\")\n",
    "plt.ylabel(\"Actual max temp (F)\")"
   ]
  },
  {
   "cell_type": "code",
   "execution_count": 7,
   "metadata": {},
   "outputs": [
    {
     "data": {
      "text/plain": [
       "<seaborn.axisgrid.FacetGrid at 0x213877336a0>"
      ]
     },
     "execution_count": 7,
     "metadata": {},
     "output_type": "execute_result"
    },
    {
     "data": {
      "image/png": "[encoded data removed]",
      "text/plain": [
       "<Figure size 360x360 with 1 Axes>"
      ]
     },
     "metadata": {
      "needs_background": "light"
     },
     "output_type": "display_data"
    }
   ],
   "source": [
    "sns.relplot(x = \"average_max_temp\", y = \"actual_max_temp\", data = dataKCLT)"
   ]
  },
  {
   "cell_type": "code",
   "execution_count": 7,
   "metadata": {},
   "outputs": [
    {
     "data": {
      "text/html": [
       "<table class=\"simpletable\">\n",
       "<caption>OLS Regression Results</caption>\n",
       "<tr>\n",
       "  <th>Dep. Variable:</th>     <td>actual_max_temp</td> <th>  R-squared:         </th> <td>   0.830</td> \n",
       "</tr>\n",
       "<tr>\n",
       "  <th>Model:</th>                   <td>OLS</td>       <th>  Adj. R-squared:    </th> <td>   0.830</td> \n",
       "</tr>\n",
       "<tr>\n",
       "  <th>Method:</th>             <td>Least Squares</td>  <th>  F-statistic:       </th> <td>   1776.</td> \n",
       "</tr>\n",
       "<tr>\n",
       "  <th>Date:</th>             <td>Sat, 12 Oct 2019</td> <th>  Prob (F-statistic):</th> <td>7.37e-142</td>\n",
       "</tr>\n",
       "<tr>\n",
       "  <th>Time:</th>                 <td>22:39:59</td>     <th>  Log-Likelihood:    </th> <td> -1277.0</td> \n",
       "</tr>\n",
       "<tr>\n",
       "  <th>No. Observations:</th>      <td>   365</td>      <th>  AIC:               </th> <td>   2558.</td> \n",
       "</tr>\n",
       "<tr>\n",
       "  <th>Df Residuals:</th>          <td>   363</td>      <th>  BIC:               </th> <td>   2566.</td> \n",
       "</tr>\n",
       "<tr>\n",
       "  <th>Df Model:</th>              <td>     1</td>      <th>                     </th>     <td> </td>    \n",
       "</tr>\n",
       "<tr>\n",
       "  <th>Covariance Type:</th>      <td>nonrobust</td>    <th>                     </th>     <td> </td>    \n",
       "</tr>\n",
       "</table>\n",
       "<table class=\"simpletable\">\n",
       "<tr>\n",
       "          <td></td>            <th>coef</th>     <th>std err</th>      <th>t</th>      <th>P>|t|</th>  <th>[0.025</th>    <th>0.975]</th>  \n",
       "</tr>\n",
       "<tr>\n",
       "  <th>Intercept</th>        <td>   -6.7238</td> <td>    1.678</td> <td>   -4.007</td> <td> 0.000</td> <td>  -10.024</td> <td>   -3.424</td>\n",
       "</tr>\n",
       "<tr>\n",
       "  <th>average_max_temp</th> <td>    1.1027</td> <td>    0.026</td> <td>   42.137</td> <td> 0.000</td> <td>    1.051</td> <td>    1.154</td>\n",
       "</tr>\n",
       "</table>\n",
       "<table class=\"simpletable\">\n",
       "<tr>\n",
       "  <th>Omnibus:</th>       <td> 0.665</td> <th>  Durbin-Watson:     </th> <td>   0.867</td>\n",
       "</tr>\n",
       "<tr>\n",
       "  <th>Prob(Omnibus):</th> <td> 0.717</td> <th>  Jarque-Bera (JB):  </th> <td>   0.714</td>\n",
       "</tr>\n",
       "<tr>\n",
       "  <th>Skew:</th>          <td> 0.101</td> <th>  Prob(JB):          </th> <td>   0.700</td>\n",
       "</tr>\n",
       "<tr>\n",
       "  <th>Kurtosis:</th>      <td> 2.924</td> <th>  Cond. No.          </th> <td>    256.</td>\n",
       "</tr>\n",
       "</table><br/><br/>Warnings:<br/>[1] Standard Errors assume that the covariance matrix of the errors is correctly specified."
      ],
      "text/plain": [
       "<class 'statsmodels.iolib.summary.Summary'>\n",
       "\"\"\"\n",
       "                            OLS Regression Results                            \n",
       "==============================================================================\n",
       "Dep. Variable:        actual_max_temp   R-squared:                       0.830\n",
       "Model:                            OLS   Adj. R-squared:                  0.830\n",
       "Method:                 Least Squares   F-statistic:                     1776.\n",
       "Date:                Sat, 12 Oct 2019   Prob (F-statistic):          7.37e-142\n",
       "Time:                        22:39:59   Log-Likelihood:                -1277.0\n",
       "No. Observations:                 365   AIC:                             2558.\n",
       "Df Residuals:                     363   BIC:                             2566.\n",
       "Df Model:                           1                                         \n",
       "Covariance Type:            nonrobust                                         \n",
       "====================================================================================\n",
       "                       coef    std err          t      P>|t|      [0.025      0.975]\n",
       "------------------------------------------------------------------------------------\n",
       "Intercept           -6.7238      1.678     -4.007      0.000     -10.024      -3.424\n",
       "average_max_temp     1.1027      0.026     42.137      0.000       1.051       1.154\n",
       "==============================================================================\n",
       "Omnibus:                        0.665   Durbin-Watson:                   0.867\n",
       "Prob(Omnibus):                  0.717   Jarque-Bera (JB):                0.714\n",
       "Skew:                           0.101   Prob(JB):                        0.700\n",
       "Kurtosis:                       2.924   Cond. No.                         256.\n",
       "==============================================================================\n",
       "\n",
       "Warnings:\n",
       "[1] Standard Errors assume that the covariance matrix of the errors is correctly specified.\n",
       "\"\"\""
      ]
     },
     "execution_count": 7,
     "metadata": {},
     "output_type": "execute_result"
    }
   ],
   "source": [
    "#question 1\n",
    "#\n",
    "lm = smf.ols(\"actual_max_temp ~ average_max_temp\", data = dataNYC).fit()\n",
    "lm.summary()"
   ]
  },
  {
   "cell_type": "code",
   "execution_count": 8,
   "metadata": {},
   "outputs": [
    {
     "data": {
      "text/plain": [
       "Text(0, 0.5, 'Count')"
      ]
     },
     "execution_count": 8,
     "metadata": {},
     "output_type": "execute_result"
    },
    {
     "data": {
      "image/png": "[encoded data removed]",
      "text/plain": [
       "<Figure size 432x288 with 1 Axes>"
      ]
     },
     "metadata": {
      "needs_background": "light"
     },
     "output_type": "display_data"
    }
   ],
   "source": [
    "lm.resid.hist()\n",
    "plt.title(\"Residuals of first linear model\")\n",
    "plt.xlabel(\"Residuals\")\n",
    "plt.ylabel(\"Count\")"
   ]
  },
  {
   "cell_type": "code",
   "execution_count": null,
   "metadata": {},
   "outputs": [],
   "source": [
    "#the distrubution appears to be normal because of the large variance in the center of the graph"
   ]
  },
  {
   "cell_type": "code",
   "execution_count": 10,
   "metadata": {},
   "outputs": [
    {
     "data": {
      "text/html": [
       "<div>\n",
       "<style scoped>\n",
       "    .dataframe tbody tr th:only-of-type {\n",
       "        vertical-align: middle;\n",
       "    }\n",
       "\n",
       "    .dataframe tbody tr th {\n",
       "        vertical-align: top;\n",
       "    }\n",
       "\n",
       "    .dataframe thead th {\n",
       "        text-align: right;\n",
       "    }\n",
       "</style>\n",
       "<table border=\"1\" class=\"dataframe\">\n",
       "  <thead>\n",
       "    <tr style=\"text-align: right;\">\n",
       "      <th></th>\n",
       "      <th>date</th>\n",
       "      <th>actual_mean_temp</th>\n",
       "      <th>actual_min_temp</th>\n",
       "      <th>actual_max_temp</th>\n",
       "      <th>average_min_temp</th>\n",
       "      <th>average_max_temp</th>\n",
       "      <th>record_min_temp</th>\n",
       "      <th>record_max_temp</th>\n",
       "      <th>record_min_temp_year</th>\n",
       "      <th>record_max_temp_year</th>\n",
       "      <th>actual_precipitation</th>\n",
       "      <th>average_precipitation</th>\n",
       "      <th>record_precipitation</th>\n",
       "    </tr>\n",
       "  </thead>\n",
       "  <tbody>\n",
       "    <tr>\n",
       "      <th>0</th>\n",
       "      <td>2014-7-1</td>\n",
       "      <td>81</td>\n",
       "      <td>70</td>\n",
       "      <td>91</td>\n",
       "      <td>67</td>\n",
       "      <td>89</td>\n",
       "      <td>56</td>\n",
       "      <td>104</td>\n",
       "      <td>1919</td>\n",
       "      <td>2012</td>\n",
       "      <td>0.00</td>\n",
       "      <td>0.10</td>\n",
       "      <td>5.91</td>\n",
       "    </tr>\n",
       "    <tr>\n",
       "      <th>1</th>\n",
       "      <td>2014-7-2</td>\n",
       "      <td>85</td>\n",
       "      <td>74</td>\n",
       "      <td>95</td>\n",
       "      <td>68</td>\n",
       "      <td>89</td>\n",
       "      <td>56</td>\n",
       "      <td>101</td>\n",
       "      <td>2008</td>\n",
       "      <td>1931</td>\n",
       "      <td>0.00</td>\n",
       "      <td>0.10</td>\n",
       "      <td>1.53</td>\n",
       "    </tr>\n",
       "    <tr>\n",
       "      <th>2</th>\n",
       "      <td>2014-7-3</td>\n",
       "      <td>82</td>\n",
       "      <td>71</td>\n",
       "      <td>93</td>\n",
       "      <td>68</td>\n",
       "      <td>89</td>\n",
       "      <td>56</td>\n",
       "      <td>99</td>\n",
       "      <td>2010</td>\n",
       "      <td>1931</td>\n",
       "      <td>0.14</td>\n",
       "      <td>0.11</td>\n",
       "      <td>2.50</td>\n",
       "    </tr>\n",
       "    <tr>\n",
       "      <th>3</th>\n",
       "      <td>2014-7-4</td>\n",
       "      <td>75</td>\n",
       "      <td>64</td>\n",
       "      <td>86</td>\n",
       "      <td>68</td>\n",
       "      <td>89</td>\n",
       "      <td>55</td>\n",
       "      <td>99</td>\n",
       "      <td>1933</td>\n",
       "      <td>1955</td>\n",
       "      <td>0.00</td>\n",
       "      <td>0.10</td>\n",
       "      <td>2.63</td>\n",
       "    </tr>\n",
       "    <tr>\n",
       "      <th>4</th>\n",
       "      <td>2014-7-5</td>\n",
       "      <td>72</td>\n",
       "      <td>60</td>\n",
       "      <td>84</td>\n",
       "      <td>68</td>\n",
       "      <td>89</td>\n",
       "      <td>57</td>\n",
       "      <td>100</td>\n",
       "      <td>1967</td>\n",
       "      <td>1954</td>\n",
       "      <td>0.00</td>\n",
       "      <td>0.10</td>\n",
       "      <td>1.65</td>\n",
       "    </tr>\n",
       "  </tbody>\n",
       "</table>\n",
       "</div>"
      ],
      "text/plain": [
       "       date  actual_mean_temp  actual_min_temp  actual_max_temp  \\\n",
       "0  2014-7-1                81               70               91   \n",
       "1  2014-7-2                85               74               95   \n",
       "2  2014-7-3                82               71               93   \n",
       "3  2014-7-4                75               64               86   \n",
       "4  2014-7-5                72               60               84   \n",
       "\n",
       "   average_min_temp  average_max_temp  record_min_temp  record_max_temp  \\\n",
       "0                67                89               56              104   \n",
       "1                68                89               56              101   \n",
       "2                68                89               56               99   \n",
       "3                68                89               55               99   \n",
       "4                68                89               57              100   \n",
       "\n",
       "   record_min_temp_year  record_max_temp_year  actual_precipitation  \\\n",
       "0                  1919                  2012                  0.00   \n",
       "1                  2008                  1931                  0.00   \n",
       "2                  2010                  1931                  0.14   \n",
       "3                  1933                  1955                  0.00   \n",
       "4                  1967                  1954                  0.00   \n",
       "\n",
       "   average_precipitation  record_precipitation  \n",
       "0                   0.10                  5.91  \n",
       "1                   0.10                  1.53  \n",
       "2                   0.11                  2.50  \n",
       "3                   0.10                  2.63  \n",
       "4                   0.10                  1.65  "
      ]
     },
     "execution_count": 10,
     "metadata": {},
     "output_type": "execute_result"
    }
   ],
   "source": [
    "char = pd.read_csv(\"KCLT.csv\")\n",
    "char.head()"
   ]
  },
  {
   "cell_type": "code",
   "execution_count": 28,
   "metadata": {},
   "outputs": [],
   "source": [
    "dataNYC[\"charlotte_actual_max_temp\"] = char[\"actual_max_temp\"]"
   ]
  },
  {
   "cell_type": "code",
   "execution_count": 29,
   "metadata": {},
   "outputs": [
    {
     "data": {
      "text/plain": [
       "Text(0, 0.5, 'NYC actual maximum temperature (F)')"
      ]
     },
     "execution_count": 29,
     "metadata": {},
     "output_type": "execute_result"
    },
    {
     "data": {
      "image/png": "[encoded data removed]",
      "text/plain": [
       "<Figure size 432x288 with 1 Axes>"
      ]
     },
     "metadata": {
      "needs_background": "light"
     },
     "output_type": "display_data"
    }
   ],
   "source": [
    "sns.regplot(x = \"charlotte_actual_max_temp\", y = \"actual_max_temp\", data = dataNYC)\n",
    "plt.title(\"Charlotte vs. NYC actual max temperatures\")\n",
    "plt.xlabel(\"Charlotte vs NYC actual temperatures\")\n",
    "plt.ylabel(\"NYC actual maximum temperature (F)\")"
   ]
  },
  {
   "cell_type": "code",
   "execution_count": 31,
   "metadata": {},
   "outputs": [
    {
     "data": {
      "text/html": [
       "<table class=\"simpletable\">\n",
       "<caption>OLS Regression Results</caption>\n",
       "<tr>\n",
       "  <th>Dep. Variable:</th>     <td>actual_max_temp</td> <th>  R-squared:         </th> <td>   0.781</td> \n",
       "</tr>\n",
       "<tr>\n",
       "  <th>Model:</th>                   <td>OLS</td>       <th>  Adj. R-squared:    </th> <td>   0.781</td> \n",
       "</tr>\n",
       "<tr>\n",
       "  <th>Method:</th>             <td>Least Squares</td>  <th>  F-statistic:       </th> <td>   1298.</td> \n",
       "</tr>\n",
       "<tr>\n",
       "  <th>Date:</th>             <td>Thu, 17 Oct 2019</td> <th>  Prob (F-statistic):</th> <td>6.32e-122</td>\n",
       "</tr>\n",
       "<tr>\n",
       "  <th>Time:</th>                 <td>18:10:18</td>     <th>  Log-Likelihood:    </th> <td> -1323.1</td> \n",
       "</tr>\n",
       "<tr>\n",
       "  <th>No. Observations:</th>      <td>   365</td>      <th>  AIC:               </th> <td>   2650.</td> \n",
       "</tr>\n",
       "<tr>\n",
       "  <th>Df Residuals:</th>          <td>   363</td>      <th>  BIC:               </th> <td>   2658.</td> \n",
       "</tr>\n",
       "<tr>\n",
       "  <th>Df Model:</th>              <td>     1</td>      <th>                     </th>     <td> </td>    \n",
       "</tr>\n",
       "<tr>\n",
       "  <th>Covariance Type:</th>      <td>nonrobust</td>    <th>                     </th>     <td> </td>    \n",
       "</tr>\n",
       "</table>\n",
       "<table class=\"simpletable\">\n",
       "<tr>\n",
       "              <td></td>                 <th>coef</th>     <th>std err</th>      <th>t</th>      <th>P>|t|</th>  <th>[0.025</th>    <th>0.975]</th>  \n",
       "</tr>\n",
       "<tr>\n",
       "  <th>Intercept</th>                 <td>  -13.1209</td> <td>    2.132</td> <td>   -6.155</td> <td> 0.000</td> <td>  -17.313</td> <td>   -8.929</td>\n",
       "</tr>\n",
       "<tr>\n",
       "  <th>charlotte_actual_max_temp</th> <td>    1.0450</td> <td>    0.029</td> <td>   36.028</td> <td> 0.000</td> <td>    0.988</td> <td>    1.102</td>\n",
       "</tr>\n",
       "</table>\n",
       "<table class=\"simpletable\">\n",
       "<tr>\n",
       "  <th>Omnibus:</th>       <td>13.704</td> <th>  Durbin-Watson:     </th> <td>   0.860</td>\n",
       "</tr>\n",
       "<tr>\n",
       "  <th>Prob(Omnibus):</th> <td> 0.001</td> <th>  Jarque-Bera (JB):  </th> <td>  15.370</td>\n",
       "</tr>\n",
       "<tr>\n",
       "  <th>Skew:</th>          <td>-0.393</td> <th>  Prob(JB):          </th> <td>0.000460</td>\n",
       "</tr>\n",
       "<tr>\n",
       "  <th>Kurtosis:</th>      <td> 3.627</td> <th>  Cond. No.          </th> <td>    329.</td>\n",
       "</tr>\n",
       "</table><br/><br/>Warnings:<br/>[1] Standard Errors assume that the covariance matrix of the errors is correctly specified."
      ],
      "text/plain": [
       "<class 'statsmodels.iolib.summary.Summary'>\n",
       "\"\"\"\n",
       "                            OLS Regression Results                            \n",
       "==============================================================================\n",
       "Dep. Variable:        actual_max_temp   R-squared:                       0.781\n",
       "Model:                            OLS   Adj. R-squared:                  0.781\n",
       "Method:                 Least Squares   F-statistic:                     1298.\n",
       "Date:                Thu, 17 Oct 2019   Prob (F-statistic):          6.32e-122\n",
       "Time:                        18:10:18   Log-Likelihood:                -1323.1\n",
       "No. Observations:                 365   AIC:                             2650.\n",
       "Df Residuals:                     363   BIC:                             2658.\n",
       "Df Model:                           1                                         \n",
       "Covariance Type:            nonrobust                                         \n",
       "=============================================================================================\n",
       "                                coef    std err          t      P>|t|      [0.025      0.975]\n",
       "---------------------------------------------------------------------------------------------\n",
       "Intercept                   -13.1209      2.132     -6.155      0.000     -17.313      -8.929\n",
       "charlotte_actual_max_temp     1.0450      0.029     36.028      0.000       0.988       1.102\n",
       "==============================================================================\n",
       "Omnibus:                       13.704   Durbin-Watson:                   0.860\n",
       "Prob(Omnibus):                  0.001   Jarque-Bera (JB):               15.370\n",
       "Skew:                          -0.393   Prob(JB):                     0.000460\n",
       "Kurtosis:                       3.627   Cond. No.                         329.\n",
       "==============================================================================\n",
       "\n",
       "Warnings:\n",
       "[1] Standard Errors assume that the covariance matrix of the errors is correctly specified.\n",
       "\"\"\""
      ]
     },
     "execution_count": 31,
     "metadata": {},
     "output_type": "execute_result"
    }
   ],
   "source": [
    "lm2 = smf.ols(\"actual_max_temp ~ charlotte_actual_max_temp\", data = dataNYC).fit()\n",
    "lm2.summary()"
   ]
  },
  {
   "cell_type": "code",
   "execution_count": null,
   "metadata": {},
   "outputs": [],
   "source": [
    "#variance is 0.781"
   ]
  },
  {
   "cell_type": "code",
   "execution_count": 32,
   "metadata": {},
   "outputs": [
    {
     "data": {
      "text/html": [
       "<div>\n",
       "<style scoped>\n",
       "    .dataframe tbody tr th:only-of-type {\n",
       "        vertical-align: middle;\n",
       "    }\n",
       "\n",
       "    .dataframe tbody tr th {\n",
       "        vertical-align: top;\n",
       "    }\n",
       "\n",
       "    .dataframe thead th {\n",
       "        text-align: right;\n",
       "    }\n",
       "</style>\n",
       "<table border=\"1\" class=\"dataframe\">\n",
       "  <thead>\n",
       "    <tr style=\"text-align: right;\">\n",
       "      <th></th>\n",
       "      <th>charlotte_actual_max_temp</th>\n",
       "    </tr>\n",
       "  </thead>\n",
       "  <tbody>\n",
       "    <tr>\n",
       "      <th>0</th>\n",
       "      <td>32</td>\n",
       "    </tr>\n",
       "    <tr>\n",
       "      <th>1</th>\n",
       "      <td>60</td>\n",
       "    </tr>\n",
       "    <tr>\n",
       "      <th>2</th>\n",
       "      <td>80</td>\n",
       "    </tr>\n",
       "  </tbody>\n",
       "</table>\n",
       "</div>"
      ],
      "text/plain": [
       "   charlotte_actual_max_temp\n",
       "0                         32\n",
       "1                         60\n",
       "2                         80"
      ]
     },
     "execution_count": 32,
     "metadata": {},
     "output_type": "execute_result"
    }
   ],
   "source": [
    "temps = pd.DataFrame({\"charlotte_actual_max_temp\":[32,60,80]})\n",
    "temps"
   ]
  },
  {
   "cell_type": "code",
   "execution_count": 33,
   "metadata": {},
   "outputs": [
    {
     "data": {
      "text/plain": [
       "0    20.319817\n",
       "1    49.580479\n",
       "2    70.480951\n",
       "dtype: float64"
      ]
     },
     "execution_count": 33,
     "metadata": {},
     "output_type": "execute_result"
    }
   ],
   "source": [
    "lm2.predict(temps)"
   ]
  },
  {
   "cell_type": "code",
   "execution_count": 34,
   "metadata": {},
   "outputs": [
    {
     "data": {
      "text/plain": [
       "Text(0, 0.5, 'Counts')"
      ]
     },
     "execution_count": 34,
     "metadata": {},
     "output_type": "execute_result"
    },
    {
     "data": {
      "image/png": "[encoded data removed]",
      "text/plain": [
       "<Figure size 432x288 with 1 Axes>"
      ]
     },
     "metadata": {
      "needs_background": "light"
     },
     "output_type": "display_data"
    }
   ],
   "source": [
    "lm2.resid.hist(bins = 15)\n",
    "plt.xlabel(\"Residuals\")\n",
    "plt.title(\"Histogram of residuals for linear model 2\")\n",
    "plt.ylabel(\"Counts\")"
   ]
  },
  {
   "cell_type": "code",
   "execution_count": 35,
   "metadata": {},
   "outputs": [
    {
     "data": {
      "text/plain": [
       "<matplotlib.lines.Line2D at 0x171e4605748>"
      ]
     },
     "execution_count": 35,
     "metadata": {},
     "output_type": "execute_result"
    },
    {
     "data": {
      "image/png": "[encoded data removed]",
      "text/plain": [
       "<Figure size 432x288 with 1 Axes>"
      ]
     },
     "metadata": {
      "needs_background": "light"
     },
     "output_type": "display_data"
    }
   ],
   "source": [
    "plt.scatter(x = dataNYC[\"actual_max_temp\"], y = lm2.resid)\n",
    "plt.title(\"NYC actual maximum temperature vs. residuals\")\n",
    "plt.ylabel(\"Residuals\")\n",
    "plt.xlabel(\"NYC actual maximum temperature (F)\")\n",
    "plt.axhline(0)"
   ]
  },
  {
   "cell_type": "code",
   "execution_count": 36,
   "metadata": {},
   "outputs": [
    {
     "data": {
      "text/html": [
       "<table class=\"simpletable\">\n",
       "<caption>OLS Regression Results</caption>\n",
       "<tr>\n",
       "  <th>Dep. Variable:</th>     <td>actual_max_temp</td> <th>  R-squared:         </th> <td>   0.874</td> \n",
       "</tr>\n",
       "<tr>\n",
       "  <th>Model:</th>                   <td>OLS</td>       <th>  Adj. R-squared:    </th> <td>   0.873</td> \n",
       "</tr>\n",
       "<tr>\n",
       "  <th>Method:</th>             <td>Least Squares</td>  <th>  F-statistic:       </th> <td>   1257.</td> \n",
       "</tr>\n",
       "<tr>\n",
       "  <th>Date:</th>             <td>Thu, 17 Oct 2019</td> <th>  Prob (F-statistic):</th> <td>1.19e-163</td>\n",
       "</tr>\n",
       "<tr>\n",
       "  <th>Time:</th>                 <td>21:27:12</td>     <th>  Log-Likelihood:    </th> <td> -1222.4</td> \n",
       "</tr>\n",
       "<tr>\n",
       "  <th>No. Observations:</th>      <td>   365</td>      <th>  AIC:               </th> <td>   2451.</td> \n",
       "</tr>\n",
       "<tr>\n",
       "  <th>Df Residuals:</th>          <td>   362</td>      <th>  BIC:               </th> <td>   2462.</td> \n",
       "</tr>\n",
       "<tr>\n",
       "  <th>Df Model:</th>              <td>     2</td>      <th>                     </th>     <td> </td>    \n",
       "</tr>\n",
       "<tr>\n",
       "  <th>Covariance Type:</th>      <td>nonrobust</td>    <th>                     </th>     <td> </td>    \n",
       "</tr>\n",
       "</table>\n",
       "<table class=\"simpletable\">\n",
       "<tr>\n",
       "              <td></td>                 <th>coef</th>     <th>std err</th>      <th>t</th>      <th>P>|t|</th>  <th>[0.025</th>    <th>0.975]</th>  \n",
       "</tr>\n",
       "<tr>\n",
       "  <th>Intercept</th>                 <td>  -15.0091</td> <td>    1.624</td> <td>   -9.242</td> <td> 0.000</td> <td>  -18.203</td> <td>  -11.815</td>\n",
       "</tr>\n",
       "<tr>\n",
       "  <th>charlotte_actual_max_temp</th> <td>    0.4680</td> <td>    0.042</td> <td>   11.235</td> <td> 0.000</td> <td>    0.386</td> <td>    0.550</td>\n",
       "</tr>\n",
       "<tr>\n",
       "  <th>average_max_temp</th>          <td>    0.6962</td> <td>    0.043</td> <td>   16.328</td> <td> 0.000</td> <td>    0.612</td> <td>    0.780</td>\n",
       "</tr>\n",
       "</table>\n",
       "<table class=\"simpletable\">\n",
       "<tr>\n",
       "  <th>Omnibus:</th>       <td> 2.483</td> <th>  Durbin-Watson:     </th> <td>   0.984</td>\n",
       "</tr>\n",
       "<tr>\n",
       "  <th>Prob(Omnibus):</th> <td> 0.289</td> <th>  Jarque-Bera (JB):  </th> <td>   2.568</td>\n",
       "</tr>\n",
       "<tr>\n",
       "  <th>Skew:</th>          <td>-0.034</td> <th>  Prob(JB):          </th> <td>   0.277</td>\n",
       "</tr>\n",
       "<tr>\n",
       "  <th>Kurtosis:</th>      <td> 3.405</td> <th>  Cond. No.          </th> <td>    437.</td>\n",
       "</tr>\n",
       "</table><br/><br/>Warnings:<br/>[1] Standard Errors assume that the covariance matrix of the errors is correctly specified."
      ],
      "text/plain": [
       "<class 'statsmodels.iolib.summary.Summary'>\n",
       "\"\"\"\n",
       "                            OLS Regression Results                            \n",
       "==============================================================================\n",
       "Dep. Variable:        actual_max_temp   R-squared:                       0.874\n",
       "Model:                            OLS   Adj. R-squared:                  0.873\n",
       "Method:                 Least Squares   F-statistic:                     1257.\n",
       "Date:                Thu, 17 Oct 2019   Prob (F-statistic):          1.19e-163\n",
       "Time:                        21:27:12   Log-Likelihood:                -1222.4\n",
       "No. Observations:                 365   AIC:                             2451.\n",
       "Df Residuals:                     362   BIC:                             2462.\n",
       "Df Model:                           2                                         \n",
       "Covariance Type:            nonrobust                                         \n",
       "=============================================================================================\n",
       "                                coef    std err          t      P>|t|      [0.025      0.975]\n",
       "---------------------------------------------------------------------------------------------\n",
       "Intercept                   -15.0091      1.624     -9.242      0.000     -18.203     -11.815\n",
       "charlotte_actual_max_temp     0.4680      0.042     11.235      0.000       0.386       0.550\n",
       "average_max_temp              0.6962      0.043     16.328      0.000       0.612       0.780\n",
       "==============================================================================\n",
       "Omnibus:                        2.483   Durbin-Watson:                   0.984\n",
       "Prob(Omnibus):                  0.289   Jarque-Bera (JB):                2.568\n",
       "Skew:                          -0.034   Prob(JB):                        0.277\n",
       "Kurtosis:                       3.405   Cond. No.                         437.\n",
       "==============================================================================\n",
       "\n",
       "Warnings:\n",
       "[1] Standard Errors assume that the covariance matrix of the errors is correctly specified.\n",
       "\"\"\""
      ]
     },
     "execution_count": 36,
     "metadata": {},
     "output_type": "execute_result"
    }
   ],
   "source": [
    "lm3 = smf.ols(\"actual_max_temp ~ charlotte_actual_max_temp + average_max_temp\", data = dataNYC).fit()\n",
    "lm3.summary()"
   ]
  },
  {
   "cell_type": "code",
   "execution_count": null,
   "metadata": {},
   "outputs": [],
   "source": [
    "# the variance is 0.874 according to this model"
   ]
  },
  {
   "cell_type": "code",
   "execution_count": 37,
   "metadata": {},
   "outputs": [
    {
     "data": {
      "text/plain": [
       "Text(0, 0.5, 'Counts')"
      ]
     },
     "execution_count": 37,
     "metadata": {},
     "output_type": "execute_result"
    },
    {
     "data": {
      "image/png": "[encoded data removed]",
      "text/plain": [
       "<Figure size 432x288 with 1 Axes>"
      ]
     },
     "metadata": {
      "needs_background": "light"
     },
     "output_type": "display_data"
    }
   ],
   "source": [
    "lm3.resid.hist(bins = 15)\n",
    "plt.title(\"Histogram of residuals for linear model 3\")\n",
    "plt.xlabel(\"Residuals\")\n",
    "plt.ylabel(\"Counts\")"
   ]
  },
  {
   "cell_type": "code",
   "execution_count": null,
   "metadata": {},
   "outputs": [],
   "source": [
    "# the plot is centered around 70"
   ]
  },
  {
   "cell_type": "code",
   "execution_count": 40,
   "metadata": {},
   "outputs": [
    {
     "data": {
      "text/plain": [
       "Text(0, 0.5, 'Predicted actual max temperature (F)')"
      ]
     },
     "execution_count": 40,
     "metadata": {},
     "output_type": "execute_result"
    },
    {
     "data": {
      "image/png": "[encoded data removed]",
      "text/plain": [
       "<Figure size 432x288 with 1 Axes>"
      ]
     },
     "metadata": {
      "needs_background": "light"
     },
     "output_type": "display_data"
    }
   ],
   "source": [
    "plt.scatter(x = dataNYC[\"actual_max_temp\"], y = lm3.fittedvalues)\n",
    "plt.title(\"Actual max temperature vs predicted values\")\n",
    "plt.xlabel(\"Actual max temperatures (F)\")\n",
    "plt.ylabel(\"Predicted actual max temperature (F)\")"
   ]
  },
  {
   "cell_type": "code",
   "execution_count": null,
   "metadata": {},
   "outputs": [],
   "source": []
  },
  {
   "cell_type": "code",
   "execution_count": null,
   "metadata": {},
   "outputs": [],
   "source": []
  }
 ],
 "metadata": {
  "kernelspec": {
   "display_name": "Python 3",
   "language": "python",
   "name": "python3"
  },
  "language_info": {
   "codemirror_mode": {
    "name": "ipython",
    "version": 3
   },
   "file_extension": ".py",
   "mimetype": "text/x-python",
   "name": "python",
   "nbconvert_exporter": "python",
   "pygments_lexer": "ipython3",
   "version": "3.7.3"
  }
 },
 "nbformat": 4,
 "nbformat_minor": 2
}
