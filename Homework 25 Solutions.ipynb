{
 "cells": [
  {
   "cell_type": "markdown",
   "metadata": {},
   "source": [
    "# Homework 25 Solutions\n",
    "\n",
    "This assignment uses the dataset of all NYC restaurant inspection results from Jan. 1, 2019 - Aug. 30, 2019 from Homework 24. The original, unfiltered dataset is at https://data.cityofnewyork.us/Health/DOHMH-New-York-City-Restaurant-Inspection-Results/43nn-pn8j.\n",
    "\n",
    "Download the filtered dataset from: [https://raw.githubusercontent.com/megan-owen/MAT328-Techniques_in_Data_Science/main/data/DOHMH_New_York_City_Restaurant_Inspection_Results_Feb2020.csv](https://raw.githubusercontent.com/megan-owen/MAT328-Techniques_in_Data_Science/main/data/DOHMH_New_York_City_Restaurant_Inspection_Results_Feb2020.csv)\n",
    "\n",
    "Information about how restaurants are inspected and graded in NYC is here: https://www1.nyc.gov/assets/doh/downloads/pdf/rii/how-we-score-grade.pdf(https://www1.nyc.gov/assets/doh/downloads/pdf/rii/how-we-score-grade.pdf)"
   ]
  },
  {
   "cell_type": "code",
   "execution_count": 2,
   "metadata": {
    "collapsed": true
   },
   "outputs": [],
   "source": [
    "import pandas as pd\n",
    "import matplotlib.pyplot as plt\n",
    "import numpy as np\n",
    "\n",
    "%matplotlib inline\n",
    "pd.set_option('display.max_columns', None)"
   ]
  },
  {
   "cell_type": "markdown",
   "metadata": {},
   "source": [
    "### Question 1:  Load and clean the data\n",
    "\n",
    "Load the restaurant data and do the following to clean it:\n",
    "1. Create a new DataFrame with only the columns `BORO` (the restaurant's borough) and `SCORE` (the restaurant's inspection score).\n",
    "2. Remove any rows in the new DataFrame with missing data.\n",
    "3. Filter the data to only keep the restaurants (rows) in the Bronx and Queens."
   ]
  },
  {
   "cell_type": "code",
   "execution_count": 4,
   "metadata": {},
   "outputs": [
    {
     "data": {
      "text/html": [
       "<div>\n",
       "<style scoped>\n",
       "    .dataframe tbody tr th:only-of-type {\n",
       "        vertical-align: middle;\n",
       "    }\n",
       "\n",
       "    .dataframe tbody tr th {\n",
       "        vertical-align: top;\n",
       "    }\n",
       "\n",
       "    .dataframe thead th {\n",
       "        text-align: right;\n",
       "    }\n",
       "</style>\n",
       "<table border=\"1\" class=\"dataframe\">\n",
       "  <thead>\n",
       "    <tr style=\"text-align: right;\">\n",
       "      <th></th>\n",
       "      <th>CAMIS</th>\n",
       "      <th>DBA</th>\n",
       "      <th>BORO</th>\n",
       "      <th>BUILDING</th>\n",
       "      <th>STREET</th>\n",
       "      <th>ZIPCODE</th>\n",
       "      <th>PHONE</th>\n",
       "      <th>CUISINE DESCRIPTION</th>\n",
       "      <th>INSPECTION DATE</th>\n",
       "      <th>ACTION</th>\n",
       "      <th>VIOLATION CODE</th>\n",
       "      <th>VIOLATION DESCRIPTION</th>\n",
       "      <th>CRITICAL FLAG</th>\n",
       "      <th>SCORE</th>\n",
       "      <th>GRADE</th>\n",
       "      <th>GRADE DATE</th>\n",
       "      <th>RECORD DATE</th>\n",
       "      <th>INSPECTION TYPE</th>\n",
       "      <th>Latitude</th>\n",
       "      <th>Longitude</th>\n",
       "      <th>Community Board</th>\n",
       "      <th>Council District</th>\n",
       "      <th>Census Tract</th>\n",
       "      <th>BIN</th>\n",
       "      <th>BBL</th>\n",
       "      <th>NTA</th>\n",
       "    </tr>\n",
       "  </thead>\n",
       "  <tbody>\n",
       "    <tr>\n",
       "      <th>0</th>\n",
       "      <td>41722899</td>\n",
       "      <td>MI CANDILEJAS RESTAURANT</td>\n",
       "      <td>Brooklyn</td>\n",
       "      <td>1509</td>\n",
       "      <td>MERMAID AVENUE</td>\n",
       "      <td>11224.0</td>\n",
       "      <td>7182666161</td>\n",
       "      <td>Latin American</td>\n",
       "      <td>02/01/2020</td>\n",
       "      <td>U</td>\n",
       "      <td>10F</td>\n",
       "      <td>Non-food contact surface improperly constructe...</td>\n",
       "      <td>G</td>\n",
       "      <td>27.0</td>\n",
       "      <td>NaN</td>\n",
       "      <td>NaN</td>\n",
       "      <td>04/30/2021</td>\n",
       "      <td>Cycle Inspection / Initial Inspection</td>\n",
       "      <td>40.576835</td>\n",
       "      <td>-73.982872</td>\n",
       "      <td>313.0</td>\n",
       "      <td>47.0</td>\n",
       "      <td>34800.0</td>\n",
       "      <td>3256857.0</td>\n",
       "      <td>3.070220e+09</td>\n",
       "      <td>BK21</td>\n",
       "    </tr>\n",
       "    <tr>\n",
       "      <th>1</th>\n",
       "      <td>50015528</td>\n",
       "      <td>THE BEAST NEXT DOOR</td>\n",
       "      <td>Queens</td>\n",
       "      <td>42-51</td>\n",
       "      <td>27 STREET</td>\n",
       "      <td>11101.0</td>\n",
       "      <td>6466392345</td>\n",
       "      <td>American</td>\n",
       "      <td>02/01/2020</td>\n",
       "      <td>D</td>\n",
       "      <td>04N</td>\n",
       "      <td>Filth flies or food/refuse/sewage-associated (...</td>\n",
       "      <td>C</td>\n",
       "      <td>10.0</td>\n",
       "      <td>A</td>\n",
       "      <td>02/01/2020</td>\n",
       "      <td>04/30/2021</td>\n",
       "      <td>Cycle Inspection / Re-inspection</td>\n",
       "      <td>40.748916</td>\n",
       "      <td>-73.940980</td>\n",
       "      <td>402.0</td>\n",
       "      <td>26.0</td>\n",
       "      <td>1900.0</td>\n",
       "      <td>4005106.0</td>\n",
       "      <td>4.004310e+09</td>\n",
       "      <td>QN31</td>\n",
       "    </tr>\n",
       "    <tr>\n",
       "      <th>2</th>\n",
       "      <td>50073026</td>\n",
       "      <td>HIBACHI STATION</td>\n",
       "      <td>Queens</td>\n",
       "      <td>8312</td>\n",
       "      <td>37TH AVE</td>\n",
       "      <td>11372.0</td>\n",
       "      <td>6466332522</td>\n",
       "      <td>Japanese</td>\n",
       "      <td>02/01/2020</td>\n",
       "      <td>D</td>\n",
       "      <td>10F</td>\n",
       "      <td>Non-food contact surface improperly constructe...</td>\n",
       "      <td>G</td>\n",
       "      <td>9.0</td>\n",
       "      <td>A</td>\n",
       "      <td>02/01/2020</td>\n",
       "      <td>04/30/2021</td>\n",
       "      <td>Cycle Inspection / Initial Inspection</td>\n",
       "      <td>40.749852</td>\n",
       "      <td>-73.883160</td>\n",
       "      <td>403.0</td>\n",
       "      <td>21.0</td>\n",
       "      <td>28100.0</td>\n",
       "      <td>4036224.0</td>\n",
       "      <td>4.014710e+09</td>\n",
       "      <td>QN28</td>\n",
       "    </tr>\n",
       "    <tr>\n",
       "      <th>3</th>\n",
       "      <td>50081649</td>\n",
       "      <td>PAULIE GEE SLICE JOINT</td>\n",
       "      <td>Brooklyn</td>\n",
       "      <td>110</td>\n",
       "      <td>FRANKLIN STREET</td>\n",
       "      <td>11222.0</td>\n",
       "      <td>9293376385</td>\n",
       "      <td>Pizza</td>\n",
       "      <td>02/01/2020</td>\n",
       "      <td>D</td>\n",
       "      <td>06A</td>\n",
       "      <td>Personal cleanliness inadequate. Outer garment...</td>\n",
       "      <td>C</td>\n",
       "      <td>12.0</td>\n",
       "      <td>A</td>\n",
       "      <td>02/01/2020</td>\n",
       "      <td>04/30/2021</td>\n",
       "      <td>Cycle Inspection / Initial Inspection</td>\n",
       "      <td>40.728349</td>\n",
       "      <td>-73.957332</td>\n",
       "      <td>301.0</td>\n",
       "      <td>33.0</td>\n",
       "      <td>56100.0</td>\n",
       "      <td>3064950.0</td>\n",
       "      <td>3.025690e+09</td>\n",
       "      <td>BK76</td>\n",
       "    </tr>\n",
       "    <tr>\n",
       "      <th>4</th>\n",
       "      <td>41127209</td>\n",
       "      <td>BACI &amp; ABBRACCI</td>\n",
       "      <td>Brooklyn</td>\n",
       "      <td>204</td>\n",
       "      <td>GRAND STREET</td>\n",
       "      <td>11211.0</td>\n",
       "      <td>7185996599</td>\n",
       "      <td>Italian</td>\n",
       "      <td>02/01/2020</td>\n",
       "      <td>D</td>\n",
       "      <td>08A</td>\n",
       "      <td>Facility not vermin proof. Harborage or condit...</td>\n",
       "      <td>G</td>\n",
       "      <td>12.0</td>\n",
       "      <td>A</td>\n",
       "      <td>02/01/2020</td>\n",
       "      <td>04/30/2021</td>\n",
       "      <td>Cycle Inspection / Initial Inspection</td>\n",
       "      <td>40.714096</td>\n",
       "      <td>-73.960342</td>\n",
       "      <td>301.0</td>\n",
       "      <td>34.0</td>\n",
       "      <td>55100.0</td>\n",
       "      <td>3062796.0</td>\n",
       "      <td>3.023930e+09</td>\n",
       "      <td>BK73</td>\n",
       "    </tr>\n",
       "  </tbody>\n",
       "</table>\n",
       "</div>"
      ],
      "text/plain": [
       "      CAMIS                       DBA      BORO BUILDING           STREET  \\\n",
       "0  41722899  MI CANDILEJAS RESTAURANT  Brooklyn     1509   MERMAID AVENUE   \n",
       "1  50015528       THE BEAST NEXT DOOR    Queens    42-51        27 STREET   \n",
       "2  50073026           HIBACHI STATION    Queens     8312         37TH AVE   \n",
       "3  50081649    PAULIE GEE SLICE JOINT  Brooklyn      110  FRANKLIN STREET   \n",
       "4  41127209           BACI & ABBRACCI  Brooklyn      204     GRAND STREET   \n",
       "\n",
       "   ZIPCODE       PHONE CUISINE DESCRIPTION INSPECTION DATE ACTION  \\\n",
       "0  11224.0  7182666161      Latin American      02/01/2020      U   \n",
       "1  11101.0  6466392345            American      02/01/2020      D   \n",
       "2  11372.0  6466332522            Japanese      02/01/2020      D   \n",
       "3  11222.0  9293376385               Pizza      02/01/2020      D   \n",
       "4  11211.0  7185996599             Italian      02/01/2020      D   \n",
       "\n",
       "  VIOLATION CODE                              VIOLATION DESCRIPTION  \\\n",
       "0            10F  Non-food contact surface improperly constructe...   \n",
       "1            04N  Filth flies or food/refuse/sewage-associated (...   \n",
       "2            10F  Non-food contact surface improperly constructe...   \n",
       "3            06A  Personal cleanliness inadequate. Outer garment...   \n",
       "4            08A  Facility not vermin proof. Harborage or condit...   \n",
       "\n",
       "  CRITICAL FLAG  SCORE GRADE  GRADE DATE RECORD DATE  \\\n",
       "0             G   27.0   NaN         NaN  04/30/2021   \n",
       "1             C   10.0     A  02/01/2020  04/30/2021   \n",
       "2             G    9.0     A  02/01/2020  04/30/2021   \n",
       "3             C   12.0     A  02/01/2020  04/30/2021   \n",
       "4             G   12.0     A  02/01/2020  04/30/2021   \n",
       "\n",
       "                         INSPECTION TYPE   Latitude  Longitude  \\\n",
       "0  Cycle Inspection / Initial Inspection  40.576835 -73.982872   \n",
       "1       Cycle Inspection / Re-inspection  40.748916 -73.940980   \n",
       "2  Cycle Inspection / Initial Inspection  40.749852 -73.883160   \n",
       "3  Cycle Inspection / Initial Inspection  40.728349 -73.957332   \n",
       "4  Cycle Inspection / Initial Inspection  40.714096 -73.960342   \n",
       "\n",
       "   Community Board  Council District  Census Tract        BIN           BBL  \\\n",
       "0            313.0              47.0       34800.0  3256857.0  3.070220e+09   \n",
       "1            402.0              26.0        1900.0  4005106.0  4.004310e+09   \n",
       "2            403.0              21.0       28100.0  4036224.0  4.014710e+09   \n",
       "3            301.0              33.0       56100.0  3064950.0  3.025690e+09   \n",
       "4            301.0              34.0       55100.0  3062796.0  3.023930e+09   \n",
       "\n",
       "    NTA  \n",
       "0  BK21  \n",
       "1  QN31  \n",
       "2  QN28  \n",
       "3  BK76  \n",
       "4  BK73  "
      ]
     },
     "execution_count": 4,
     "metadata": {},
     "output_type": "execute_result"
    }
   ],
   "source": [
    "restaurants = pd.read_csv(\"https://raw.githubusercontent.com/megan-owen/MAT328-Techniques_in_Data_Science/main/data/DOHMH_New_York_City_Restaurant_Inspection_Results_Feb2020.csv\")\n",
    "restaurants.head()"
   ]
  },
  {
   "cell_type": "code",
   "execution_count": 5,
   "metadata": {},
   "outputs": [
    {
     "data": {
      "text/html": [
       "<div>\n",
       "<style scoped>\n",
       "    .dataframe tbody tr th:only-of-type {\n",
       "        vertical-align: middle;\n",
       "    }\n",
       "\n",
       "    .dataframe tbody tr th {\n",
       "        vertical-align: top;\n",
       "    }\n",
       "\n",
       "    .dataframe thead th {\n",
       "        text-align: right;\n",
       "    }\n",
       "</style>\n",
       "<table border=\"1\" class=\"dataframe\">\n",
       "  <thead>\n",
       "    <tr style=\"text-align: right;\">\n",
       "      <th></th>\n",
       "      <th>BORO</th>\n",
       "      <th>SCORE</th>\n",
       "    </tr>\n",
       "  </thead>\n",
       "  <tbody>\n",
       "    <tr>\n",
       "      <th>0</th>\n",
       "      <td>Brooklyn</td>\n",
       "      <td>27.0</td>\n",
       "    </tr>\n",
       "    <tr>\n",
       "      <th>1</th>\n",
       "      <td>Queens</td>\n",
       "      <td>10.0</td>\n",
       "    </tr>\n",
       "    <tr>\n",
       "      <th>2</th>\n",
       "      <td>Queens</td>\n",
       "      <td>9.0</td>\n",
       "    </tr>\n",
       "    <tr>\n",
       "      <th>3</th>\n",
       "      <td>Brooklyn</td>\n",
       "      <td>12.0</td>\n",
       "    </tr>\n",
       "    <tr>\n",
       "      <th>4</th>\n",
       "      <td>Brooklyn</td>\n",
       "      <td>12.0</td>\n",
       "    </tr>\n",
       "  </tbody>\n",
       "</table>\n",
       "</div>"
      ],
      "text/plain": [
       "       BORO  SCORE\n",
       "0  Brooklyn   27.0\n",
       "1    Queens   10.0\n",
       "2    Queens    9.0\n",
       "3  Brooklyn   12.0\n",
       "4  Brooklyn   12.0"
      ]
     },
     "execution_count": 5,
     "metadata": {},
     "output_type": "execute_result"
    }
   ],
   "source": [
    "restaurants2 = restaurants[[\"BORO\",\"SCORE\"]]\n",
    "restaurants2.head()"
   ]
  },
  {
   "cell_type": "code",
   "execution_count": null,
   "metadata": {
    "collapsed": true
   },
   "outputs": [],
   "source": [
    "restaurants2.dropna(inplace = True)"
   ]
  },
  {
   "cell_type": "code",
   "execution_count": 10,
   "metadata": {},
   "outputs": [
    {
     "data": {
      "text/html": [
       "<div>\n",
       "<style scoped>\n",
       "    .dataframe tbody tr th:only-of-type {\n",
       "        vertical-align: middle;\n",
       "    }\n",
       "\n",
       "    .dataframe tbody tr th {\n",
       "        vertical-align: top;\n",
       "    }\n",
       "\n",
       "    .dataframe thead th {\n",
       "        text-align: right;\n",
       "    }\n",
       "</style>\n",
       "<table border=\"1\" class=\"dataframe\">\n",
       "  <thead>\n",
       "    <tr style=\"text-align: right;\">\n",
       "      <th></th>\n",
       "      <th>BORO</th>\n",
       "      <th>SCORE</th>\n",
       "    </tr>\n",
       "  </thead>\n",
       "  <tbody>\n",
       "    <tr>\n",
       "      <th>1</th>\n",
       "      <td>Queens</td>\n",
       "      <td>10.0</td>\n",
       "    </tr>\n",
       "    <tr>\n",
       "      <th>2</th>\n",
       "      <td>Queens</td>\n",
       "      <td>9.0</td>\n",
       "    </tr>\n",
       "    <tr>\n",
       "      <th>6</th>\n",
       "      <td>Queens</td>\n",
       "      <td>47.0</td>\n",
       "    </tr>\n",
       "    <tr>\n",
       "      <th>7</th>\n",
       "      <td>Queens</td>\n",
       "      <td>47.0</td>\n",
       "    </tr>\n",
       "    <tr>\n",
       "      <th>8</th>\n",
       "      <td>Queens</td>\n",
       "      <td>47.0</td>\n",
       "    </tr>\n",
       "  </tbody>\n",
       "</table>\n",
       "</div>"
      ],
      "text/plain": [
       "     BORO  SCORE\n",
       "1  Queens   10.0\n",
       "2  Queens    9.0\n",
       "6  Queens   47.0\n",
       "7  Queens   47.0\n",
       "8  Queens   47.0"
      ]
     },
     "execution_count": 10,
     "metadata": {},
     "output_type": "execute_result"
    }
   ],
   "source": [
    "bronx_filter = restaurants2[\"BORO\"] == \"Bronx\"\n",
    "queens_filter = restaurants2[\"BORO\"] == \"Queens\"\n",
    "bxq_restaurants = restaurants2[bronx_filter | queens_filter]\n",
    "bxq_restaurants.head()"
   ]
  },
  {
   "cell_type": "markdown",
   "metadata": {},
   "source": [
    "### Question 2\n",
    "\n",
    "Is the mean inspection score different for restaurants in the Bronx that for restaurants in Queens?  We will conduct a permutation test to answer this question.\n",
    "\n",
    "#### Question 2a\n",
    "What are the null and alternative hypotheses?"
   ]
  },
  {
   "cell_type": "markdown",
   "metadata": {},
   "source": [
    "**2a answer:** Null hypothesis:  The mean inspection score for restaurants in the Bronx is the same as the mean inspection score for restaurants in Queens.\n",
    " \n",
    "Alternative hypothesis:  The mean inspection score for restaurants in the Bronx is different than the mean inspection score for restaurants in Queens."
   ]
  },
  {
   "cell_type": "markdown",
   "metadata": {},
   "source": [
    "### Question 2b\n",
    "Compute the test statistic from the data.  That is, compute the difference between the mean test score for Bronx restaurants and the mean test score for Queens restaurants."
   ]
  },
  {
   "cell_type": "code",
   "execution_count": 13,
   "metadata": {},
   "outputs": [
    {
     "data": {
      "text/plain": [
       "17.9130060292851"
      ]
     },
     "execution_count": 13,
     "metadata": {},
     "output_type": "execute_result"
    }
   ],
   "source": [
    "bronx_filter = bxq_restaurants[\"BORO\"] == \"Bronx\"\n",
    "bronx_restaurants = bxq_restaurants[bronx_filter]\n",
    "bronx_score_mean = bronx_restaurants[\"SCORE\"].mean()\n",
    "bronx_score_mean"
   ]
  },
  {
   "cell_type": "code",
   "execution_count": 14,
   "metadata": {},
   "outputs": [
    {
     "data": {
      "text/plain": [
       "21.121893088185224"
      ]
     },
     "execution_count": 14,
     "metadata": {},
     "output_type": "execute_result"
    }
   ],
   "source": [
    "queens_filter = bxq_restaurants[\"BORO\"] == \"Queens\"\n",
    "queens_restaurants = bxq_restaurants[queens_filter]\n",
    "queens_score_mean = queens_restaurants[\"SCORE\"].mean()\n",
    "queens_score_mean"
   ]
  },
  {
   "cell_type": "code",
   "execution_count": 16,
   "metadata": {},
   "outputs": [
    {
     "data": {
      "text/plain": [
       "3.2088870589001246"
      ]
     },
     "execution_count": 16,
     "metadata": {},
     "output_type": "execute_result"
    }
   ],
   "source": [
    "# compute the difference in means for the data\n",
    "np.abs(bronx_score_mean - queens_score_mean)"
   ]
  },
  {
   "cell_type": "markdown",
   "metadata": {},
   "source": [
    "### Question 2c\n",
    "\n",
    "Add a new column to your DataFrame that is a permutation of the restaurant boroughs column."
   ]
  },
  {
   "cell_type": "code",
   "execution_count": 17,
   "metadata": {},
   "outputs": [
    {
     "name": "stderr",
     "output_type": "stream",
     "text": [
      "/Users/megan/anaconda3/lib/python3.6/site-packages/ipykernel_launcher.py:1: SettingWithCopyWarning: \n",
      "A value is trying to be set on a copy of a slice from a DataFrame.\n",
      "Try using .loc[row_indexer,col_indexer] = value instead\n",
      "\n",
      "See the caveats in the documentation: http://pandas.pydata.org/pandas-docs/stable/indexing.html#indexing-view-versus-copy\n",
      "  \"\"\"Entry point for launching an IPython kernel.\n"
     ]
    },
    {
     "data": {
      "text/html": [
       "<div>\n",
       "<style scoped>\n",
       "    .dataframe tbody tr th:only-of-type {\n",
       "        vertical-align: middle;\n",
       "    }\n",
       "\n",
       "    .dataframe tbody tr th {\n",
       "        vertical-align: top;\n",
       "    }\n",
       "\n",
       "    .dataframe thead th {\n",
       "        text-align: right;\n",
       "    }\n",
       "</style>\n",
       "<table border=\"1\" class=\"dataframe\">\n",
       "  <thead>\n",
       "    <tr style=\"text-align: right;\">\n",
       "      <th></th>\n",
       "      <th>BORO</th>\n",
       "      <th>SCORE</th>\n",
       "      <th>permuted_borough</th>\n",
       "    </tr>\n",
       "  </thead>\n",
       "  <tbody>\n",
       "    <tr>\n",
       "      <th>1</th>\n",
       "      <td>Queens</td>\n",
       "      <td>10.0</td>\n",
       "      <td>Queens</td>\n",
       "    </tr>\n",
       "    <tr>\n",
       "      <th>2</th>\n",
       "      <td>Queens</td>\n",
       "      <td>9.0</td>\n",
       "      <td>Queens</td>\n",
       "    </tr>\n",
       "    <tr>\n",
       "      <th>6</th>\n",
       "      <td>Queens</td>\n",
       "      <td>47.0</td>\n",
       "      <td>Bronx</td>\n",
       "    </tr>\n",
       "    <tr>\n",
       "      <th>7</th>\n",
       "      <td>Queens</td>\n",
       "      <td>47.0</td>\n",
       "      <td>Queens</td>\n",
       "    </tr>\n",
       "    <tr>\n",
       "      <th>8</th>\n",
       "      <td>Queens</td>\n",
       "      <td>47.0</td>\n",
       "      <td>Bronx</td>\n",
       "    </tr>\n",
       "  </tbody>\n",
       "</table>\n",
       "</div>"
      ],
      "text/plain": [
       "     BORO  SCORE permuted_borough\n",
       "1  Queens   10.0           Queens\n",
       "2  Queens    9.0           Queens\n",
       "6  Queens   47.0            Bronx\n",
       "7  Queens   47.0           Queens\n",
       "8  Queens   47.0            Bronx"
      ]
     },
     "execution_count": 17,
     "metadata": {},
     "output_type": "execute_result"
    }
   ],
   "source": [
    "bxq_restaurants[\"permuted_borough\"] = np.random.permutation(bxq_restaurants[\"BORO\"])\n",
    "bxq_restaurants.head()"
   ]
  },
  {
   "cell_type": "markdown",
   "metadata": {},
   "source": [
    "### Question 2d\n",
    "\n",
    "Use a permutation test to find the distribution of the test statistic (the difference between the means) under the null hypothesis.  That is, using the Bronx and Queens restaurant data, do 10,00, simulations where the borough column is permuted and the difference of the mean score of the Bronx restaurants and the mean score of the Queens restaurants for the permuted data is computed.\n",
    "\n",
    "Plot a histogram of these these mean differences."
   ]
  },
  {
   "cell_type": "code",
   "execution_count": 19,
   "metadata": {},
   "outputs": [
    {
     "name": "stderr",
     "output_type": "stream",
     "text": [
      "/Users/megan/anaconda3/lib/python3.6/site-packages/ipykernel_launcher.py:3: SettingWithCopyWarning: \n",
      "A value is trying to be set on a copy of a slice from a DataFrame.\n",
      "Try using .loc[row_indexer,col_indexer] = value instead\n",
      "\n",
      "See the caveats in the documentation: http://pandas.pydata.org/pandas-docs/stable/indexing.html#indexing-view-versus-copy\n",
      "  This is separate from the ipykernel package so we can avoid doing imports until\n"
     ]
    }
   ],
   "source": [
    "mean_diffs = []\n",
    "for i in range(1000):\n",
    "    bxq_restaurants[\"permuted_borough\"] = np.random.permutation(bxq_restaurants[\"BORO\"])\n",
    "    \n",
    "    bx_filter = bxq_restaurants[\"permuted_borough\"] == \"Bronx\"\n",
    "    bx_rests = bxq_restaurants[bx_filter]\n",
    "    bx_mean = bx_rests[\"SCORE\"].mean()\n",
    "\n",
    "    q_filter = bxq_restaurants[\"permuted_borough\"] == \"Queens\"\n",
    "    q_rests = bxq_restaurants[q_filter]\n",
    "    q_mean = q_rests[\"SCORE\"].mean()\n",
    "\n",
    "    diff = np.abs(bx_mean - q_mean)\n",
    "    mean_diffs.append(diff)"
   ]
  },
  {
   "cell_type": "code",
   "execution_count": 20,
   "metadata": {},
   "outputs": [
    {
     "data": {
      "text/plain": [
       "Text(0,0.5,'Frequency')"
      ]
     },
     "execution_count": 20,
     "metadata": {},
     "output_type": "execute_result"
    },
    {
     "data": {
      "image/png": "[encoded data removed]",
      "text/plain": [
       "<matplotlib.figure.Figure at 0x1143bda90>"
      ]
     },
     "metadata": {},
     "output_type": "display_data"
    }
   ],
   "source": [
    "pd.Series(mean_diffs).hist()\n",
    "plt.title(\"Simulated differences in means assuming null hypothesis\")\n",
    "plt.xlabel(\"Difference in means\")\n",
    "plt.ylabel(\"Frequency\")"
   ]
  },
  {
   "cell_type": "markdown",
   "metadata": {},
   "source": [
    "### Question 2e\n",
    "\n",
    "Use the data test statistic computed in (2b) and the histogram from (2d) to reject or fail to reject the null hypothesis.  What is your conclusion and why? "
   ]
  },
  {
   "cell_type": "markdown",
   "metadata": {},
   "source": [
    "**2e answer:** The data test statistic is 3.21, which is significantly larger than the last value on the histogram.  Thus it is unlikely that the data test statistic came from the same distribution as the histogram.  Thus we reject the null hypothesis."
   ]
  },
  {
   "cell_type": "markdown",
   "metadata": {},
   "source": [
    " "
   ]
  }
 ],
 "metadata": {
  "kernelspec": {
   "display_name": "Python 3",
   "language": "python",
   "name": "python3"
  },
  "language_info": {
   "codemirror_mode": {
    "name": "ipython",
    "version": 3
   },
   "file_extension": ".py",
   "mimetype": "text/x-python",
   "name": "python",
   "nbconvert_exporter": "python",
   "pygments_lexer": "ipython3",
   "version": "3.6.10"
  }
 },
 "nbformat": 4,
 "nbformat_minor": 2
}
